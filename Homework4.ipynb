{
  "nbformat": 4,
  "nbformat_minor": 0,
  "metadata": {
    "colab": {
      "name": "oneyman_ozge_th4.ipynb",
      "provenance": [],
      "collapsed_sections": [],
      "toc_visible": true
    },
    "kernelspec": {
      "name": "python3",
      "display_name": "Python 3"
    }
  },
  "cells": [
    {
      "cell_type": "markdown",
      "metadata": {
        "id": "IUMUedHN5Taz"
      },
      "source": [
        "# Take-Home Exam 4: kNN\n",
        "\n",
        "*In this take-home exam, you are going to work with k-nearest neighbors algorithm and observe how it performs with different hyperparameter settings.*\n",
        "\n",
        "**Submission Instructions**\n",
        "\n",
        "---\n",
        "Copy this assignment to your Drive. <font color = 'red'> `File` --> `Save a copy in Drive`</font>. Rename it as <font color = 'green'>`Lastname_Firstname_th4`</font>.\n",
        "\n",
        "Write your solutions in the cells  marked <font color = 'green'>`# your code`</font>.\n",
        "\n",
        "When you're done please submit your solutions as an <font color=\"red\">`.ipynb`</font> file. To do so:\n",
        "\n",
        "\n",
        "1.  Click on <font color=\"red\">`File`</font>  at the top left on the Colab screen, then click on <font color = 'red'>`Download .ipynb`</font>.\n",
        "2.   Then submit the <font color=\"red\">`.ipynb`</font> version of your work on SUCourse.\n",
        "\n",
        "\n",
        "For any question, you may send an email to the TAs and LAs.\n",
        "\n",
        "---"
      ]
    },
    {
      "cell_type": "code",
      "metadata": {
        "id": "WoH5Tzks5xut",
        "colab": {
          "base_uri": "https://localhost:8080/",
          "height": 122
        },
        "outputId": "c85d8271-f184-41f8-8256-08d2ceea3027"
      },
      "source": [
        "from google.colab import drive\n",
        "drive.mount(\"/content/drive\", force_remount=True)\n",
        "\n",
        "path_prefix = \"/content/drive/My Drive\""
      ],
      "execution_count": null,
      "outputs": [
        {
          "output_type": "stream",
          "text": [
            "Go to this URL in a browser: https://accounts.google.com/o/oauth2/auth?client_id=947318989803-6bn6qk8qdgf4n4g3pfee6491hc0brc4i.apps.googleusercontent.com&redirect_uri=urn%3aietf%3awg%3aoauth%3a2.0%3aoob&response_type=code&scope=email%20https%3a%2f%2fwww.googleapis.com%2fauth%2fdocs.test%20https%3a%2f%2fwww.googleapis.com%2fauth%2fdrive%20https%3a%2f%2fwww.googleapis.com%2fauth%2fdrive.photos.readonly%20https%3a%2f%2fwww.googleapis.com%2fauth%2fpeopleapi.readonly\n",
            "\n",
            "Enter your authorization code:\n",
            "··········\n",
            "Mounted at /content/drive\n"
          ],
          "name": "stdout"
        }
      ]
    },
    {
      "cell_type": "code",
      "metadata": {
        "id": "XHlml1CI51JU"
      },
      "source": [
        "import pandas as pd\n",
        "import numpy as np\n",
        "import matplotlib.pyplot as plt\n",
        "from os.path import join\n",
        "\n",
        "%matplotlib inline"
      ],
      "execution_count": null,
      "outputs": []
    },
    {
      "cell_type": "markdown",
      "metadata": {
        "id": "Y30VA09I6KV2"
      },
      "source": [
        "## Measuring the Distance\n",
        "\n",
        "The core of the kNN algorithm depends on the measuring the distance, i.e. similarity, between test and training observations. Here, the applied distance function plays a vital role on the performance of the model. In this section, you are going to experiment with various distance functions and observe their effects on the models.\n",
        "\n",
        "To this end, you are going to work with `data.csv`, which is attached in the assignment folder. The dataset contains two continuous features and a class label of three different values."
      ]
    },
    {
      "cell_type": "code",
      "metadata": {
        "id": "LP7koOulxgeX",
        "colab": {
          "base_uri": "https://localhost:8080/",
          "height": 204
        },
        "outputId": "290374ab-df49-491e-de43-b20f231808c5"
      },
      "source": [
        "filename = \"data.csv\"\n",
        "df = pd.read_csv(join(path_prefix, filename))\n",
        "df.head()"
      ],
      "execution_count": null,
      "outputs": [
        {
          "output_type": "execute_result",
          "data": {
            "text/html": [
              "<div>\n",
              "<style scoped>\n",
              "    .dataframe tbody tr th:only-of-type {\n",
              "        vertical-align: middle;\n",
              "    }\n",
              "\n",
              "    .dataframe tbody tr th {\n",
              "        vertical-align: top;\n",
              "    }\n",
              "\n",
              "    .dataframe thead th {\n",
              "        text-align: right;\n",
              "    }\n",
              "</style>\n",
              "<table border=\"1\" class=\"dataframe\">\n",
              "  <thead>\n",
              "    <tr style=\"text-align: right;\">\n",
              "      <th></th>\n",
              "      <th>x</th>\n",
              "      <th>y</th>\n",
              "      <th>label</th>\n",
              "    </tr>\n",
              "  </thead>\n",
              "  <tbody>\n",
              "    <tr>\n",
              "      <th>0</th>\n",
              "      <td>5.1</td>\n",
              "      <td>3.5</td>\n",
              "      <td>0.0</td>\n",
              "    </tr>\n",
              "    <tr>\n",
              "      <th>1</th>\n",
              "      <td>4.9</td>\n",
              "      <td>3.0</td>\n",
              "      <td>0.0</td>\n",
              "    </tr>\n",
              "    <tr>\n",
              "      <th>2</th>\n",
              "      <td>4.7</td>\n",
              "      <td>3.2</td>\n",
              "      <td>0.0</td>\n",
              "    </tr>\n",
              "    <tr>\n",
              "      <th>3</th>\n",
              "      <td>4.6</td>\n",
              "      <td>3.1</td>\n",
              "      <td>0.0</td>\n",
              "    </tr>\n",
              "    <tr>\n",
              "      <th>4</th>\n",
              "      <td>5.0</td>\n",
              "      <td>3.6</td>\n",
              "      <td>0.0</td>\n",
              "    </tr>\n",
              "  </tbody>\n",
              "</table>\n",
              "</div>"
            ],
            "text/plain": [
              "     x    y  label\n",
              "0  5.1  3.5    0.0\n",
              "1  4.9  3.0    0.0\n",
              "2  4.7  3.2    0.0\n",
              "3  4.6  3.1    0.0\n",
              "4  5.0  3.6    0.0"
            ]
          },
          "metadata": {
            "tags": []
          },
          "execution_count": 3
        }
      ]
    },
    {
      "cell_type": "code",
      "metadata": {
        "id": "Pa4ovOKCx2bk",
        "colab": {
          "base_uri": "https://localhost:8080/",
          "height": 282
        },
        "outputId": "2e64119e-0477-4feb-d65a-c1ab8da4291a"
      },
      "source": [
        "plt.scatter(df[\"x\"], df[\"y\"], c=df[\"label\"])\n",
        "plt.xlabel(\"X\")\n",
        "plt.ylabel(\"Y\")\n",
        "plt.grid()\n",
        "plt.show()"
      ],
      "execution_count": null,
      "outputs": [
        {
          "output_type": "display_data",
          "data": {
            "image/png": "[encoded data removed]",
            "text/plain": [
              "<Figure size 432x288 with 1 Axes>"
            ]
          },
          "metadata": {
            "tags": [],
            "needs_background": "light"
          }
        }
      ]
    },
    {
      "cell_type": "markdown",
      "metadata": {
        "id": "MKl7xkeJ1UD0"
      },
      "source": [
        "### Q1: Distance Functions\n",
        "\n",
        "Up to this point, we utilized euclidiean distance between observations to obtain the similarities. In this task, you are going to explore different distance functions and implement them from scratch. \n",
        "\n",
        "---\n",
        "\n",
        "#### Euclidean Distance\n",
        "\n",
        "Represents the root of the sum of the square of differences between the opposite values in vectors.\n",
        "\n",
        "$\\sqrt{\\sum_{i=0}^N \\, |x_i - y_i|^2}$\n",
        "\n",
        "#### Manhattan Distance\n",
        "\n",
        "Also known as city block distance. Represents the sum of the absolute differences between the opposite values in vectors. \n",
        "\n",
        "$\\sum_{i=0}^N \\, |x_i - y_i|$\n",
        "\n",
        "#### Chebyshev Distance\n",
        "\n",
        "Also known as maximum value distance. The distance between two vectors is the greatest of their difference along any coordinate dimension.\n",
        "\n",
        "$max_i \\; |x_i - y_i|$\n",
        "\n",
        "---\n",
        "\n",
        "<img height=\"200\" width=\"600\" src=\"https://iq.opengenus.org/content/images/2018/12/distance.jpg\"/>\n",
        "\n",
        "\n"
      ]
    },
    {
      "cell_type": "markdown",
      "metadata": {
        "id": "So1cOFEYC3qB"
      },
      "source": [
        "Below, you have two vectors, `x` and `y`, of the same size. In this task, you need to write the distance functions described above from scratch as regular Python functions. Each function should take two parameters, corresponding to the vectors, and return the distance between them. \n",
        "\n",
        "- *Calculate the distance between `x` and `y` with each distance function, then **print** the results*.\n",
        "\n",
        "*p.s You may deploy the built-in functions from Scipy to validate your results.*"
      ]
    },
    {
      "cell_type": "code",
      "metadata": {
        "id": "k4IYDxVk1swW"
      },
      "source": [
        "# built-in distance functions\n",
        "from scipy.spatial.distance import euclidean, cityblock, chebyshev\n",
        "\n",
        "N = 5\n",
        "np.random.seed(0)\n",
        "x = np.random.randn(N)\n",
        "y = np.random.randn(N)"
      ],
      "execution_count": null,
      "outputs": []
    },
    {
      "cell_type": "code",
      "metadata": {
        "id": "FCkdGavl1s6h",
        "colab": {
          "base_uri": "https://localhost:8080/",
          "height": 153
        },
        "outputId": "902353ce-2ed4-4110-f10a-156e2943c8ae"
      },
      "source": [
        "# your code\n",
        "from math import*\n",
        "from scipy.spatial import distance\n",
        "def euc_dist(x,y):\n",
        "\n",
        "    return sqrt(sum(pow(a-b,2) for a, b in zip(x, y)))\n",
        "euc= euc_dist(x,y)\n",
        "def man_dist(x,y):\n",
        "\n",
        "    return sum(abs(a-b) for a,b in zip(x,y))  \n",
        "man= man_dist(x,y)\n",
        "cheby=distance.chebyshev(x,y)\n",
        "    \n",
        "print(\"Euclidean Distance: \" )\n",
        "print(euc) \n",
        "print(\"\")\n",
        "print(\"Manhattan Distance: \")  \n",
        "print(man)  \n",
        "print(\"\")\n",
        "print(\"Chebyshev Distance: \")  \n",
        "print(cheby)\n"
      ],
      "execution_count": null,
      "outputs": [
        {
          "output_type": "stream",
          "text": [
            "Euclidean Distance: \n",
            "4.0880341417038\n",
            "\n",
            "Manhattan Distance: \n",
            "8.222428166612488\n",
            "\n",
            "Chebyshev Distance: \n",
            "2.741330225844075\n"
          ],
          "name": "stdout"
        }
      ]
    },
    {
      "cell_type": "markdown",
      "metadata": {
        "id": "j3friHRZ44L5"
      },
      "source": [
        "### Q2: Classification Boundries\n",
        "\n",
        "In this section, you are going to observe the effect of distance functions on the classification boundries. Below, you have a function named `visualize_model` which takes three parameters:  \n",
        "\n",
        "- `model` -> a model you generated\n",
        "- `ax` -> an axes object to plot the classification boundries of the given model\n",
        "- `title` -> the title of the given `ax` object\n",
        "\n",
        "The function **trains the model** with the provided data in Q1 and then **displays the resulting classification boundries**.\n",
        "\n",
        "- *In this question, you are going to experiment with the distance functions above. **Generate** (do not train it) a kNN model, `with K set to 1`, for each distance function described in Q1 and then plot a **1x3 layout (one row, three columns)**, in which the classifiction boundries of a particular kNN model is displayed in the columns. Use the `title` parameter to distinguish plots of each distance function.*\n",
        "\n",
        "- *Once you obtain the figure, comment on the resulting classification boundries. Discuss and compare how a particular distance function affects the classification boundries.*"
      ]
    },
    {
      "cell_type": "code",
      "metadata": {
        "id": "PpqhHYuS-wcQ"
      },
      "source": [
        "from matplotlib.colors import ListedColormap\n",
        "from ipywidgets import interact\n",
        "\n",
        "def visualize_model(model, ax, title):\n",
        "  step = 0.05\n",
        "\n",
        "  cmap_light = ListedColormap(['orange', 'cyan', 'cornflowerblue'])\n",
        "  cmap_bold = ListedColormap(['darkorange', 'c', 'darkblue'])\n",
        "\n",
        "  data = df[[\"x\", \"y\"]].values\n",
        "  labels = df[\"label\"].values\n",
        "\n",
        "  model.fit(data, labels)\n",
        "\n",
        "  x_min = data[:, 0].min() - 1\n",
        "  x_max = data[:, 0].max() + 1\n",
        "  y_min = data[:, 1].min() - 1\n",
        "  y_max = data[:, 1].max() + 1\n",
        "\n",
        "  xx, yy = np.meshgrid(np.arange(x_min, x_max, step), np.arange(y_min, y_max, step))\n",
        "  y_pred = model.predict(np.hstack([xx.reshape(-1,1), yy.reshape(-1,1)])).reshape(xx.shape)\n",
        "\n",
        "  ax.pcolormesh(xx, yy, y_pred, cmap=cmap_light)\n",
        "  ax.scatter(data[:, 0], data[:, 1], c=labels, cmap=cmap_bold, edgecolor='k', s=20)\n",
        "  ax.set_xlim(xx.min(), xx.max())\n",
        "  ax.set_ylim(yy.min(), yy.max())\n",
        "  ax.set_title(title)"
      ],
      "execution_count": null,
      "outputs": []
    },
    {
      "cell_type": "code",
      "metadata": {
        "id": "ppEYLWju93IQ",
        "colab": {
          "base_uri": "https://localhost:8080/",
          "height": 281
        },
        "outputId": "b8a5e956-9131-42a4-e7fc-8d50d95ed871"
      },
      "source": [
        "# your code\n",
        "from sklearn.neighbors import KNeighborsClassifier\n",
        "a=1\n",
        "\n",
        "m=[]\n",
        "m.append(KNeighborsClassifier(a, metric=\"euclidean\"))\n",
        "m.append(KNeighborsClassifier(a, metric=\"manhattan\"))\n",
        "m.append(KNeighborsClassifier(a, metric=\"chebyshev\"))\n",
        "\n",
        "fig, axs= plt.subplots(1,3)\n",
        "title= [\"Euclidean\", \"Manhattan\", \"Chebyshev\"]\n",
        "\n",
        "visualize_model(m[0], axs[0], title[0])\n",
        "visualize_model(m[1], axs[1], title[1])\n",
        "visualize_model(m[2], axs[2], title[2])"
      ],
      "execution_count": null,
      "outputs": [
        {
          "output_type": "display_data",
          "data": {
            "image/png": "[encoded data removed]",
            "text/plain": [
              "<Figure size 432x288 with 3 Axes>"
            ]
          },
          "metadata": {
            "tags": [],
            "needs_background": "light"
          }
        }
      ]
    },
    {
      "cell_type": "markdown",
      "metadata": {
        "id": "7QqNNJpRJWwN"
      },
      "source": [
        "<font color=\"blue\">[Double Click to Insert Your Comments]</font>\n",
        "\n",
        "Both three graphs looks similar, there is not too much difrences between Euclidean and Chebyshev functions. But, in Manhattan funcitons there is a bit difference, we can see it from the blue area."
      ]
    },
    {
      "cell_type": "markdown",
      "metadata": {
        "id": "FVFHW230nvG2"
      },
      "source": [
        "## Feature Scaling\n",
        "\n",
        "In this section, you are going to observe the effect of feature scaling on the performance of your models. To this end, you are going to use the `wine quality` dataset in which your goal is to predict the quality of the wines that are stored in the `target` column.\n"
      ]
    },
    {
      "cell_type": "markdown",
      "metadata": {
        "id": "rRiX8RAJtXke"
      },
      "source": [
        "### Q1: Feature Standardization\n",
        "\n",
        "In the raw dataset, some of the features are obtained from differing ranges due to their definitions. This difference among the variables/features may cause a problem for the distance functions. In order to deal with this problem, we discussed scaling techniques in the previous recitations. In this task, you are going to compare your models with raw and standardized features utilizing different distance functions.\n",
        "\n",
        "1. First of all, split your data into two folds, *train* and *test* (80% training, 20% test) with sklearn's *train_test_split* function as we did in the recitations. Here, it's cruical that you call this function with **random_state=0**, so that you will obtain the same partitioning in each run.\n",
        "\n",
        "2. Once you perform the train and test splitting, create a kNN model with **K set to 5** for each distance function we discussed in the previous section. Train your model with the traing data and obtain the accuracy score.\n",
        "\n",
        "3. In the recitation, we performed standardization manually. In other words, we calculated the mean and std from the data and performed the subtraction and division by hand. Here, you are going to deploy a built-in function from sklearn, [StandardScaler](https://scikit-learn.org/stable/modules/generated/sklearn.preprocessing.StandardScaler.html). \n",
        "\n",
        "4. After you standardize the features, you basically need to repeat step 2 with the scaled features: *create a kNN model with **K set to 5** for each distance function we discussed in the previous section. Train your model with the traing data and obtain the accuracy score.*\n",
        "\n",
        "*Store the accuracy score of each model in an appropriate data structure of your choice and **print out the results**.*\n",
        "\n"
      ]
    },
    {
      "cell_type": "code",
      "metadata": {
        "id": "Q2y7J4EQffX6",
        "colab": {
          "base_uri": "https://localhost:8080/",
          "height": 226
        },
        "outputId": "5c520bbc-c11f-4c43-c88a-378bb6a7cacd"
      },
      "source": [
        "from sklearn import datasets\n",
        "\n",
        "wine = datasets.load_wine()\n",
        "cols = wine.feature_names + [\"target\"]\n",
        "df_wine = pd.DataFrame(np.hstack([wine.data, wine.target.reshape(-1,1)]), columns=cols)\n",
        "df_wine[\"target\"] = df_wine[\"target\"].astype(int)\n",
        "df_wine.head()"
      ],
      "execution_count": null,
      "outputs": [
        {
          "output_type": "execute_result",
          "data": {
            "text/html": [
              "<div>\n",
              "<style scoped>\n",
              "    .dataframe tbody tr th:only-of-type {\n",
              "        vertical-align: middle;\n",
              "    }\n",
              "\n",
              "    .dataframe tbody tr th {\n",
              "        vertical-align: top;\n",
              "    }\n",
              "\n",
              "    .dataframe thead th {\n",
              "        text-align: right;\n",
              "    }\n",
              "</style>\n",
              "<table border=\"1\" class=\"dataframe\">\n",
              "  <thead>\n",
              "    <tr style=\"text-align: right;\">\n",
              "      <th></th>\n",
              "      <th>alcohol</th>\n",
              "      <th>malic_acid</th>\n",
              "      <th>ash</th>\n",
              "      <th>alcalinity_of_ash</th>\n",
              "      <th>magnesium</th>\n",
              "      <th>total_phenols</th>\n",
              "      <th>flavanoids</th>\n",
              "      <th>nonflavanoid_phenols</th>\n",
              "      <th>proanthocyanins</th>\n",
              "      <th>color_intensity</th>\n",
              "      <th>hue</th>\n",
              "      <th>od280/od315_of_diluted_wines</th>\n",
              "      <th>proline</th>\n",
              "      <th>target</th>\n",
              "    </tr>\n",
              "  </thead>\n",
              "  <tbody>\n",
              "    <tr>\n",
              "      <th>0</th>\n",
              "      <td>14.23</td>\n",
              "      <td>1.71</td>\n",
              "      <td>2.43</td>\n",
              "      <td>15.6</td>\n",
              "      <td>127.0</td>\n",
              "      <td>2.80</td>\n",
              "      <td>3.06</td>\n",
              "      <td>0.28</td>\n",
              "      <td>2.29</td>\n",
              "      <td>5.64</td>\n",
              "      <td>1.04</td>\n",
              "      <td>3.92</td>\n",
              "      <td>1065.0</td>\n",
              "      <td>0</td>\n",
              "    </tr>\n",
              "    <tr>\n",
              "      <th>1</th>\n",
              "      <td>13.20</td>\n",
              "      <td>1.78</td>\n",
              "      <td>2.14</td>\n",
              "      <td>11.2</td>\n",
              "      <td>100.0</td>\n",
              "      <td>2.65</td>\n",
              "      <td>2.76</td>\n",
              "      <td>0.26</td>\n",
              "      <td>1.28</td>\n",
              "      <td>4.38</td>\n",
              "      <td>1.05</td>\n",
              "      <td>3.40</td>\n",
              "      <td>1050.0</td>\n",
              "      <td>0</td>\n",
              "    </tr>\n",
              "    <tr>\n",
              "      <th>2</th>\n",
              "      <td>13.16</td>\n",
              "      <td>2.36</td>\n",
              "      <td>2.67</td>\n",
              "      <td>18.6</td>\n",
              "      <td>101.0</td>\n",
              "      <td>2.80</td>\n",
              "      <td>3.24</td>\n",
              "      <td>0.30</td>\n",
              "      <td>2.81</td>\n",
              "      <td>5.68</td>\n",
              "      <td>1.03</td>\n",
              "      <td>3.17</td>\n",
              "      <td>1185.0</td>\n",
              "      <td>0</td>\n",
              "    </tr>\n",
              "    <tr>\n",
              "      <th>3</th>\n",
              "      <td>14.37</td>\n",
              "      <td>1.95</td>\n",
              "      <td>2.50</td>\n",
              "      <td>16.8</td>\n",
              "      <td>113.0</td>\n",
              "      <td>3.85</td>\n",
              "      <td>3.49</td>\n",
              "      <td>0.24</td>\n",
              "      <td>2.18</td>\n",
              "      <td>7.80</td>\n",
              "      <td>0.86</td>\n",
              "      <td>3.45</td>\n",
              "      <td>1480.0</td>\n",
              "      <td>0</td>\n",
              "    </tr>\n",
              "    <tr>\n",
              "      <th>4</th>\n",
              "      <td>13.24</td>\n",
              "      <td>2.59</td>\n",
              "      <td>2.87</td>\n",
              "      <td>21.0</td>\n",
              "      <td>118.0</td>\n",
              "      <td>2.80</td>\n",
              "      <td>2.69</td>\n",
              "      <td>0.39</td>\n",
              "      <td>1.82</td>\n",
              "      <td>4.32</td>\n",
              "      <td>1.04</td>\n",
              "      <td>2.93</td>\n",
              "      <td>735.0</td>\n",
              "      <td>0</td>\n",
              "    </tr>\n",
              "  </tbody>\n",
              "</table>\n",
              "</div>"
            ],
            "text/plain": [
              "   alcohol  malic_acid   ash  ...  od280/od315_of_diluted_wines  proline  target\n",
              "0    14.23        1.71  2.43  ...                          3.92   1065.0       0\n",
              "1    13.20        1.78  2.14  ...                          3.40   1050.0       0\n",
              "2    13.16        2.36  2.67  ...                          3.17   1185.0       0\n",
              "3    14.37        1.95  2.50  ...                          3.45   1480.0       0\n",
              "4    13.24        2.59  2.87  ...                          2.93    735.0       0\n",
              "\n",
              "[5 rows x 14 columns]"
            ]
          },
          "metadata": {
            "tags": []
          },
          "execution_count": 5
        }
      ]
    },
    {
      "cell_type": "code",
      "metadata": {
        "id": "WGMKESnxjg75"
      },
      "source": [
        "from sklearn.preprocessing import StandardScaler\n",
        "from sklearn.metrics import accuracy_score"
      ],
      "execution_count": null,
      "outputs": []
    },
    {
      "cell_type": "code",
      "metadata": {
        "id": "7qEuQgm0lwP_"
      },
      "source": [
        "# your code"
      ],
      "execution_count": null,
      "outputs": []
    },
    {
      "cell_type": "markdown",
      "metadata": {
        "id": "AX6nIy78vY-S"
      },
      "source": [
        "### Q2: Tabular Results and Interpretation\n",
        "\n",
        "Now, you are going to present your results in a tabular format. \n",
        "\n",
        "- Create a markdown table in the cell below, where you are going to **display the accuracy score** of the models with distinct distance functions on raw and standardized features.\n",
        "\n",
        "An exemplary table can be found below.\n",
        "\n",
        "<img height=\"100\" width=\"300\" src=\"https://i.ibb.co/1RnHG36/tr.png\"/>\n",
        "\n",
        "Once you obtain the table, comment on the results. Discuss the effect of standardization on the accuracy scores."
      ]
    },
    {
      "cell_type": "markdown",
      "metadata": {
        "id": "xGW13DUb1HxL"
      },
      "source": [
        "<font color=\"blue\">[Double Click to Insert Your Table and Comments]</font>"
      ]
    }
  ]
}