{
  "nbformat": 4,
  "nbformat_minor": 0,
  "metadata": {
    "colab": {
      "name": "oneyman_ozge_th6.ipynb",
      "provenance": [],
      "collapsed_sections": [],
      "toc_visible": true
    },
    "kernelspec": {
      "name": "python3",
      "display_name": "Python 3"
    }
  },
  "cells": [
    {
      "cell_type": "markdown",
      "metadata": {
        "id": "gzA5v_dYmrKa"
      },
      "source": [
        "# Take-Home Exam 6: General Review\n",
        "\n",
        "*In this take-home exam, you are going to solve questions regarding machine learning concepts.*\n",
        "\n",
        "**Submission Instructions**\n",
        "\n",
        "---\n",
        "Copy this assignment to your Drive. <font color = 'red'> `File` --> `Save a copy in Drive`</font>. Rename it as <font color = 'green'>`Lastname_Firstname_th6`</font>.\n",
        "\n",
        "Write your solutions in the cells  marked <font color = 'green'>`# your code`</font>.\n",
        "\n",
        "When you're done please submit your solutions as an <font color=\"red\">`.ipynb`</font> file. To do so:\n",
        "\n",
        "\n",
        "1.  Click on <font color=\"red\">`File`</font>  at the top left on the Colab screen, then click on <font color = 'red'>`Download .ipynb`</font>.\n",
        "2.   Then submit the <font color=\"red\">`.ipynb`</font> version of your work on SUCourse.\n",
        "\n",
        "\n",
        "For any question, you may send an email to the TAs and LAs.\n",
        "\n",
        "---"
      ]
    },
    {
      "cell_type": "markdown",
      "metadata": {
        "id": "3PPXszHTQ306"
      },
      "source": [
        "**IMPORTANT**\n",
        "\n",
        "In order to complete the true/false and multi-choice questions, please use markdown utilities. For instance, below you have a set of options \n",
        "\n",
        "- [ ] option A\n",
        "- [x] option B\n",
        "- [ ] option C\n",
        "\n",
        "If you **double click** on this cell, you will see that a ticked option is represented with \\[x\\] statement. Please utilize the same selection mechanism in the questions below."
      ]
    },
    {
      "cell_type": "markdown",
      "metadata": {
        "id": "HkpA2ho_LNxB"
      },
      "source": [
        "## ML Concepts"
      ]
    },
    {
      "cell_type": "markdown",
      "metadata": {
        "id": "KFXTYe2DL7KI"
      },
      "source": [
        "### Q1\n",
        "\n",
        "What is the difference between classification and regression? Assume that you are performing price prediction. Which is the appropriate method? Explain your reasoning.\n",
        "\n",
        "The main difference between them is in the output. While the output of the classification is categorical, output of the regression is numerical. The appropriate method is regression, since the prices is continuous. \n",
        "\n"
      ]
    },
    {
      "cell_type": "markdown",
      "metadata": {
        "id": "j4etmk03T6Z1"
      },
      "source": [
        "### Q2\n",
        "\n",
        "What is overfitting? Explain in terms of its relationship with model complexity and its implications.\n",
        "\n",
        "It is a error in modelling. It appears because of functions which is too close to limited data points."
      ]
    },
    {
      "cell_type": "markdown",
      "metadata": {
        "id": "f6kMHqNwHRiu"
      },
      "source": [
        "### Q3\n",
        "\n",
        "Why do we need cross-validation? \n",
        "\n",
        "Cross Verification is a very useful technique to evaluate the effectiveness of models, especially when need to reduce excessive overfitting. It is also used to assign the hyper parameters of models, for reaching the lowest error. "
      ]
    },
    {
      "cell_type": "markdown",
      "metadata": {
        "id": "tkaD4GWbAF0H"
      },
      "source": [
        "## kNN"
      ]
    },
    {
      "cell_type": "markdown",
      "metadata": {
        "id": "MQayVyetNhxq"
      },
      "source": [
        "### Q1\n",
        "\n",
        "A kNN model with k set to 1 would obtain 100% accuracy result on the train data.\n",
        "\n",
        "- [x] True\n",
        "- [ ] False"
      ]
    },
    {
      "cell_type": "markdown",
      "metadata": {
        "id": "RX8an6jJOlZJ"
      },
      "source": [
        "### Q2\n",
        "\n",
        "Given a training dataset with 100 observations, we built a kNN model with k set to 100. In the training data, 30% of the observations are of class `A`, 10% are of class `B` and the remaining 60% are of class `C`. \n",
        "\n",
        "Now, we have a test dataset in which 5% are of class `A`, 55% are of class `B` and remaining 40% are of class `C`. If we deploy the trained model to predict the test dataset, what would be the resulting accuracy score?\n",
        "\n",
        "- [ ] 50%\n",
        "- [x] 40%\n",
        "- [ ] 55%"
      ]
    },
    {
      "cell_type": "markdown",
      "metadata": {
        "id": "YsTpi3s9AHqR"
      },
      "source": [
        "## Decision Trees"
      ]
    },
    {
      "cell_type": "markdown",
      "metadata": {
        "id": "jBcChfpoVuhj"
      },
      "source": [
        "### Q1\n",
        "\n",
        "Suppose we have the training data below, where A, B and C are binary attributes and y is the target attribute.\n",
        "\n",
        "|A|B|C|y|\n",
        "|:---:|:---:|:---:|:---:|\n",
        "|0|1|0|yes|\n",
        "|1|0|1|yes|\n",
        "|0|0|0|no|\n",
        "|1|0|1|no|\n",
        "|0|1|1|no|\n",
        "|1|1|0|yes|\n",
        "\n",
        "Assume we have a decision tree model trained with this model. Is it possible for this model to obtain 100% accuracy score on the training data? Explain your reasoning.\n",
        "\n",
        "No, it is not possible. "
      ]
    },
    {
      "cell_type": "markdown",
      "metadata": {
        "id": "_VhPe7Iwczb8"
      },
      "source": [
        "### Q2\n",
        "\n",
        "Suppose we have the training data below, where A, B and C are binary attributes and y is the target attribute.\n",
        "\n",
        "|A|B|C|y|\n",
        "|:---:|:---:|:---:|:---:|\n",
        "|0|1|0|yes|\n",
        "|1|0|1|yes|\n",
        "|0|0|0|no|\n",
        "|1|0|1|no|\n",
        "|0|1|1|no|\n",
        "|1|1|0|yes|\n",
        "|0|1|1|yes|\n",
        "\n",
        "Which attribute above would yield the highest information gain for the root node in the decision tree?\n",
        "\n",
        "- [ ] A\n",
        "- [x] B\n",
        "- [ ] C"
      ]
    },
    {
      "cell_type": "markdown",
      "metadata": {
        "id": "qrUqwwp1Qn6u"
      },
      "source": [
        "### Q3\n",
        "\n",
        "A decision tree algorithm iteratively evaluates available features in the data to create the branches. What would be the effect of adding a new feature to the dataset on the predictive performance of a model?\n",
        "\n",
        "- [ ] Increases the performance\n",
        "- [ ] Decreases the performance\n",
        "- [x] There is no enough information"
      ]
    },
    {
      "cell_type": "markdown",
      "metadata": {
        "id": "2GVphvifLSGq"
      },
      "source": [
        "## Naive Bayes"
      ]
    },
    {
      "cell_type": "markdown",
      "metadata": {
        "id": "y6oUnpswLToT"
      },
      "source": [
        "### Q1\n",
        "\n",
        "Why is Naive Bayes algorithm considered as `naive`? Explain briefly and discuss its implications in terms of its effect on the computation.\n",
        "\n",
        "This is 'naive' because it assumes that the properties of a measurement are independent from each other. This is naive because it is almost not true."
      ]
    },
    {
      "cell_type": "markdown",
      "metadata": {
        "id": "PyloVcBXW9o4"
      },
      "source": [
        "### Q2\n",
        "\n",
        "Suppose that we have the data below, where `Stolen` is the  target attribute that consists of binary values (yes or no).\n",
        "\n",
        "|Color|Type|Origin|Stolen|\n",
        "|:---:|:---:|:---:|:---:|\n",
        "|red|sports|domestic|yes|\n",
        "|red|sports|domestic|no|\n",
        "|red|sports|domestic|yes|\n",
        "|yellow|sports|domestic|no|\n",
        "|yellow|sports|imported|yes|\n",
        "|yellow|suv|imported|no|\n",
        "|yellow|suv|imported|yes|\n",
        "|yellow|suv|domestic|no|\n",
        "|red|suv|imported|no|\n",
        "|red|sports|imported|yes|\n",
        "\n",
        "You have a naive bayes model and a new test instance with attributes `color=red`, `type=suv` and `origin=imported`. What would be the predicted label by the naive bayes model for the given test instance? *Write down your calculations step by step.*\n",
        "\n",
        "There is no need to use latex in this question. You may show your calculations as P(stolen=yes|color=red....) = (...)/(...) etc.\n",
        "\n",
        "\n",
        "\n",
        "- P(red|yes)=3/5= 0.6\n",
        "- P(red)= 5/10= 0.5\n",
        "- P(yes)= 5/10= 0.5\n",
        "- P(red|no)= 2/5= 0.4\n",
        "- P(no)= 5/10= 0.5\n",
        "- P(suv)= 4/10= 0.4\n",
        "- P(suv|yes)= 1/5= 0.2\n",
        "- P(suv|no)= 3/5 =0.6\n",
        "- P(imported)= 5/10= 0.5\n",
        "- P(imported|yes)= 3/5= 0.6\n",
        "- P(imported|no)= 2/5= 0.4\n",
        "- P(yes|X)= P(red|yes) x P(suv|yes) x P(imported|yes) x P(yes)= 0.6 x 0.2 x 0.6 x 0.5 = 0.036\n",
        "- P(no|X)= P(red|no) x P(suv|no) x P(imported|no) x P(no)= 0.4 x 0.6 x 0.4 x 0.5 = 0.048\n",
        "-0.036/0.036+0.048 = 0.42857143\n",
        "-0.048/0.036+0.048 = 0.57142857\n",
        "\n",
        "Predicted label is no."
      ]
    }
  ]
}