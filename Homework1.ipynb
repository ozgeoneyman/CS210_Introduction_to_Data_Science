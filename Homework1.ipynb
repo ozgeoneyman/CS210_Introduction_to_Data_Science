{
  "nbformat": 4,
  "nbformat_minor": 0,
  "metadata": {
    "colab": {
      "name": "Oneyman_Ozge_th1.ipynb",
      "provenance": [],
      "collapsed_sections": [],
      "toc_visible": true,
      "machine_shape": "hm"
    },
    "kernelspec": {
      "name": "python3",
      "display_name": "Python 3"
    }
  },
  "cells": [
    {
      "cell_type": "markdown",
      "metadata": {
        "id": "EWSPUJGk3kH4"
      },
      "source": [
        "# Take-Home Exam 1: NYC Bike Rentals - Data Exploration\n",
        "\n",
        "In this take-home exam, you are going to investigate bike rentals that took place in NYC. Most of the tasks involve the libraries that you have experienced, such as pandas and matplotlib. In addition, you are going to use `folium` as well, in order to plot spatial distributions.\n",
        "\n",
        "**Submission Instructions**\n",
        "\n",
        "---\n",
        "Copy this assignment to you Drive. <font color = 'red'> `File` --> `Save a copy in Drive`</font>. Rename it as <font color = 'green'>`Lastname_Firstname_th1`</font>.\n",
        "\n",
        "Write your solutions in the cells  marked <font color = 'green'>`# your code`</font>.\n",
        "\n",
        "When you're done please submit your solutions as an <font color=\"red\">`.ipynb`</font> file. To do so:\n",
        "\n",
        "\n",
        "1.  Click on <font color=\"red\">`File`</font>  at the top left on the Colab screen, then click on <font color = 'red'>`Download .ipynb`</font>.\n",
        "2.   Then submit the <font color=\"red\">`.ipynb`</font> version of your work on your SUCourse submission.\n",
        "\n",
        "\n",
        "For any question, you may send an email to the TAs and LAs.\n",
        "\n",
        "---"
      ]
    },
    {
      "cell_type": "code",
      "metadata": {
        "id": "6bMsbFFU3G7O",
        "colab": {
          "base_uri": "https://localhost:8080/",
          "height": 34
        },
        "outputId": "1e9fc82d-f80d-43ae-ae35-c41fb67643f5"
      },
      "source": [
        "from google.colab import drive\n",
        "drive.mount(\"/content/drive\", force_remount=True)\n",
        "\n",
        "path_prefix = \"/content/drive/My Drive\""
      ],
      "execution_count": null,
      "outputs": [
        {
          "output_type": "stream",
          "text": [
            "Mounted at /content/drive\n"
          ],
          "name": "stdout"
        }
      ]
    },
    {
      "cell_type": "code",
      "metadata": {
        "id": "iMhn-Pd23UFZ"
      },
      "source": [
        "import pandas as pd\n",
        "import numpy as np\n",
        "import matplotlib.pyplot as plt\n",
        "\n",
        "from os.path import join\n",
        "\n",
        "%matplotlib inline"
      ],
      "execution_count": null,
      "outputs": []
    },
    {
      "cell_type": "code",
      "metadata": {
        "id": "ejGqxWtC3f5g",
        "colab": {
          "base_uri": "https://localhost:8080/",
          "height": 340
        },
        "outputId": "374a2c92-b192-434e-ca45-8c9d92871da0"
      },
      "source": [
        "fname = \"NYC-CityBike.csv\"\n",
        "df = pd.read_csv(join(path_prefix, fname))\n",
        "\n",
        "df.head()"
      ],
      "execution_count": null,
      "outputs": [
        {
          "output_type": "execute_result",
          "data": {
            "text/html": [
              "<div>\n",
              "<style scoped>\n",
              "    .dataframe tbody tr th:only-of-type {\n",
              "        vertical-align: middle;\n",
              "    }\n",
              "\n",
              "    .dataframe tbody tr th {\n",
              "        vertical-align: top;\n",
              "    }\n",
              "\n",
              "    .dataframe thead th {\n",
              "        text-align: right;\n",
              "    }\n",
              "</style>\n",
              "<table border=\"1\" class=\"dataframe\">\n",
              "  <thead>\n",
              "    <tr style=\"text-align: right;\">\n",
              "      <th></th>\n",
              "      <th>starttime</th>\n",
              "      <th>stoptime</th>\n",
              "      <th>start station id</th>\n",
              "      <th>start station name</th>\n",
              "      <th>start station latitude</th>\n",
              "      <th>start station longitude</th>\n",
              "      <th>end station id</th>\n",
              "      <th>end station name</th>\n",
              "      <th>end station latitude</th>\n",
              "      <th>end station longitude</th>\n",
              "      <th>bikeid</th>\n",
              "      <th>usertype</th>\n",
              "      <th>birth year</th>\n",
              "      <th>gender</th>\n",
              "    </tr>\n",
              "  </thead>\n",
              "  <tbody>\n",
              "    <tr>\n",
              "      <th>0</th>\n",
              "      <td>2016-05-31 19:58:48</td>\n",
              "      <td>5/31/2016 20:03:51</td>\n",
              "      <td>167</td>\n",
              "      <td>E 39 St &amp; 3 Ave</td>\n",
              "      <td>40.748901</td>\n",
              "      <td>-73.976049</td>\n",
              "      <td>501</td>\n",
              "      <td>FDR Drive &amp; E 35 St</td>\n",
              "      <td>40.744219</td>\n",
              "      <td>-73.971212</td>\n",
              "      <td>19022</td>\n",
              "      <td>Subscriber</td>\n",
              "      <td>1990.0</td>\n",
              "      <td>1</td>\n",
              "    </tr>\n",
              "    <tr>\n",
              "      <th>1</th>\n",
              "      <td>2016-03-23 11:32:40</td>\n",
              "      <td>3/23/2016 12:06:44</td>\n",
              "      <td>439</td>\n",
              "      <td>E 4 St &amp; 2 Ave</td>\n",
              "      <td>40.726281</td>\n",
              "      <td>-73.989780</td>\n",
              "      <td>319</td>\n",
              "      <td>Fulton St &amp; Broadway</td>\n",
              "      <td>40.711066</td>\n",
              "      <td>-74.009447</td>\n",
              "      <td>18097</td>\n",
              "      <td>Customer</td>\n",
              "      <td>NaN</td>\n",
              "      <td>0</td>\n",
              "    </tr>\n",
              "    <tr>\n",
              "      <th>2</th>\n",
              "      <td>2016-05-09 07:31:19</td>\n",
              "      <td>5/9/2016 07:38:27</td>\n",
              "      <td>517</td>\n",
              "      <td>Pershing Square South</td>\n",
              "      <td>40.751581</td>\n",
              "      <td>-73.977910</td>\n",
              "      <td>491</td>\n",
              "      <td>E 24 St &amp; Park Ave S</td>\n",
              "      <td>40.740964</td>\n",
              "      <td>-73.986022</td>\n",
              "      <td>17171</td>\n",
              "      <td>Subscriber</td>\n",
              "      <td>1985.0</td>\n",
              "      <td>1</td>\n",
              "    </tr>\n",
              "    <tr>\n",
              "      <th>3</th>\n",
              "      <td>2016-04-17 18:08:30</td>\n",
              "      <td>4/17/2016 18:11:27</td>\n",
              "      <td>3154</td>\n",
              "      <td>E 77 St &amp; 3 Ave</td>\n",
              "      <td>40.773142</td>\n",
              "      <td>-73.958562</td>\n",
              "      <td>3140</td>\n",
              "      <td>1 Ave &amp; E 78 St</td>\n",
              "      <td>40.771404</td>\n",
              "      <td>-73.953517</td>\n",
              "      <td>16765</td>\n",
              "      <td>Subscriber</td>\n",
              "      <td>1989.0</td>\n",
              "      <td>1</td>\n",
              "    </tr>\n",
              "    <tr>\n",
              "      <th>4</th>\n",
              "      <td>2016-05-24 21:10:12</td>\n",
              "      <td>5/24/2016 21:16:51</td>\n",
              "      <td>308</td>\n",
              "      <td>St James Pl &amp; Oliver St</td>\n",
              "      <td>40.713079</td>\n",
              "      <td>-73.998512</td>\n",
              "      <td>251</td>\n",
              "      <td>Mott St &amp; Prince St</td>\n",
              "      <td>40.723180</td>\n",
              "      <td>-73.994800</td>\n",
              "      <td>22554</td>\n",
              "      <td>Subscriber</td>\n",
              "      <td>1964.0</td>\n",
              "      <td>1</td>\n",
              "    </tr>\n",
              "  </tbody>\n",
              "</table>\n",
              "</div>"
            ],
            "text/plain": [
              "             starttime            stoptime  ...  birth year gender\n",
              "0  2016-05-31 19:58:48  5/31/2016 20:03:51  ...      1990.0      1\n",
              "1  2016-03-23 11:32:40  3/23/2016 12:06:44  ...         NaN      0\n",
              "2  2016-05-09 07:31:19   5/9/2016 07:38:27  ...      1985.0      1\n",
              "3  2016-04-17 18:08:30  4/17/2016 18:11:27  ...      1989.0      1\n",
              "4  2016-05-24 21:10:12  5/24/2016 21:16:51  ...      1964.0      1\n",
              "\n",
              "[5 rows x 14 columns]"
            ]
          },
          "metadata": {
            "tags": []
          },
          "execution_count": 14
        }
      ]
    },
    {
      "cell_type": "markdown",
      "metadata": {
        "id": "F4eUIF8RqASr"
      },
      "source": [
        "## Data Pre-Processing"
      ]
    },
    {
      "cell_type": "markdown",
      "metadata": {
        "id": "o2IbPBlOX-sS"
      },
      "source": [
        "#### Datetime Conversion\n",
        "\n",
        "In the dataframe, the `starttime`, `stoptime` columns are object data types. Convert them to datetime objects as you did in the recitations."
      ]
    },
    {
      "cell_type": "code",
      "metadata": {
        "id": "MSsM6p68d_ff",
        "colab": {
          "base_uri": "https://localhost:8080/",
          "height": 272
        },
        "outputId": "c92c7ef6-d159-4b16-89d8-d7503761cc58"
      },
      "source": [
        "# your code\n",
        "df[\"starttime\"]=pd.to_datetime(df[\"starttime\"])\n",
        "df[\"stoptime\"]=pd.to_datetime(df[\"stoptime\"])\n",
        "df.dtypes"
      ],
      "execution_count": null,
      "outputs": [
        {
          "output_type": "execute_result",
          "data": {
            "text/plain": [
              "starttime                  datetime64[ns]\n",
              "stoptime                   datetime64[ns]\n",
              "start station id                    int64\n",
              "start station name                 object\n",
              "start station latitude            float64\n",
              "start station longitude           float64\n",
              "end station id                      int64\n",
              "end station name                   object\n",
              "end station latitude              float64\n",
              "end station longitude             float64\n",
              "bikeid                              int64\n",
              "usertype                           object\n",
              "birth year                        float64\n",
              "gender                              int64\n",
              "dtype: object"
            ]
          },
          "metadata": {
            "tags": []
          },
          "execution_count": 15
        }
      ]
    },
    {
      "cell_type": "markdown",
      "metadata": {
        "id": "W1La8Z9jX2Ck"
      },
      "source": [
        "#### Dealing with NaN values"
      ]
    },
    {
      "cell_type": "markdown",
      "metadata": {
        "id": "-NpPv8PoebC5"
      },
      "source": [
        "##### Check NaN Distributions\n",
        "\n",
        "Show the percentage of NaN values in each column.\n",
        "\n",
        "*hint: You may check recitation materials.*"
      ]
    },
    {
      "cell_type": "code",
      "metadata": {
        "id": "SMeFYf6UgTCb",
        "colab": {
          "base_uri": "https://localhost:8080/",
          "height": 272
        },
        "outputId": "d83ee142-d8d8-4ee6-eb97-fb065a363aa9"
      },
      "source": [
        "# your code\n",
        "df.isnull().sum() / df.shape[0]\n"
      ],
      "execution_count": null,
      "outputs": [
        {
          "output_type": "execute_result",
          "data": {
            "text/plain": [
              "starttime                  0.000000\n",
              "stoptime                   0.000000\n",
              "start station id           0.000000\n",
              "start station name         0.000000\n",
              "start station latitude     0.000000\n",
              "start station longitude    0.000000\n",
              "end station id             0.000000\n",
              "end station name           0.000000\n",
              "end station latitude       0.000000\n",
              "end station longitude      0.000000\n",
              "bikeid                     0.000000\n",
              "usertype                   0.000000\n",
              "birth year                 0.107587\n",
              "gender                     0.000000\n",
              "dtype: float64"
            ]
          },
          "metadata": {
            "tags": []
          },
          "execution_count": 5
        }
      ]
    },
    {
      "cell_type": "markdown",
      "metadata": {
        "id": "FBgz1-3NgW1s"
      },
      "source": [
        "##### Dropping NaNs\n",
        "\n",
        "In the following tasks, you will work on age distribution and grouppings. As a result, you need to get rid of NaN age values.\n",
        "\n",
        "Drop NaN values from the dataframe.\n"
      ]
    },
    {
      "cell_type": "code",
      "metadata": {
        "id": "q6Khu_sdi20l"
      },
      "source": [
        "# your code\n",
        "df=df.dropna()"
      ],
      "execution_count": null,
      "outputs": []
    },
    {
      "cell_type": "markdown",
      "metadata": {
        "id": "QAAtd9nIYBDy"
      },
      "source": [
        "#### Distance Calculation\n",
        "\n",
        "Create a new column named `distance` by calculating the distance between starting and ending locations of the bike rents.\n",
        "\n",
        "You may utilize any library you wish. But we encourage you to use [Geopy](https://pypi.org/project/geopy/) library and its distance functionality.\n",
        "\n",
        "Please check out the usage of the library from the url provided if you decided to use Geopy."
      ]
    },
    {
      "cell_type": "code",
      "metadata": {
        "id": "-L5VQKclKEqU",
        "colab": {
          "base_uri": "https://localhost:8080/",
          "height": 442
        },
        "outputId": "8cae1cac-bf07-4778-8c88-dfbef1eddcf2"
      },
      "source": [
        "# your code\n",
        "\n",
        "!pip install geopy\n",
        "from geopy.distance import geodesic\n",
        "  \n",
        "\n",
        "def dis(row):\n",
        "  s = (row[\"start station latitude\"], row[\"start station longitude\"]) \n",
        "  e = (row[\"end station latitude\"],  row[\"end station longitude\"]) \n",
        "  \n",
        "  return  geodesic(s, e).km\n",
        "\n",
        "df['distance']=df.apply(lambda row: dis(row),axis=1) \n",
        "\n",
        "df.head()"
      ],
      "execution_count": null,
      "outputs": [
        {
          "output_type": "stream",
          "text": [
            "Requirement already satisfied: geopy in /usr/local/lib/python3.6/dist-packages (1.17.0)\n",
            "Requirement already satisfied: geographiclib<2,>=1.49 in /usr/local/lib/python3.6/dist-packages (from geopy) (1.50)\n"
          ],
          "name": "stdout"
        },
        {
          "output_type": "execute_result",
          "data": {
            "text/html": [
              "<div>\n",
              "<style scoped>\n",
              "    .dataframe tbody tr th:only-of-type {\n",
              "        vertical-align: middle;\n",
              "    }\n",
              "\n",
              "    .dataframe tbody tr th {\n",
              "        vertical-align: top;\n",
              "    }\n",
              "\n",
              "    .dataframe thead th {\n",
              "        text-align: right;\n",
              "    }\n",
              "</style>\n",
              "<table border=\"1\" class=\"dataframe\">\n",
              "  <thead>\n",
              "    <tr style=\"text-align: right;\">\n",
              "      <th></th>\n",
              "      <th>starttime</th>\n",
              "      <th>stoptime</th>\n",
              "      <th>start station id</th>\n",
              "      <th>start station name</th>\n",
              "      <th>start station latitude</th>\n",
              "      <th>start station longitude</th>\n",
              "      <th>end station id</th>\n",
              "      <th>end station name</th>\n",
              "      <th>end station latitude</th>\n",
              "      <th>end station longitude</th>\n",
              "      <th>bikeid</th>\n",
              "      <th>usertype</th>\n",
              "      <th>birth year</th>\n",
              "      <th>gender</th>\n",
              "      <th>distance</th>\n",
              "    </tr>\n",
              "  </thead>\n",
              "  <tbody>\n",
              "    <tr>\n",
              "      <th>0</th>\n",
              "      <td>2016-05-31 19:58:48</td>\n",
              "      <td>2016-05-31 20:03:51</td>\n",
              "      <td>167</td>\n",
              "      <td>E 39 St &amp; 3 Ave</td>\n",
              "      <td>40.748901</td>\n",
              "      <td>-73.976049</td>\n",
              "      <td>501</td>\n",
              "      <td>FDR Drive &amp; E 35 St</td>\n",
              "      <td>40.744219</td>\n",
              "      <td>-73.971212</td>\n",
              "      <td>19022</td>\n",
              "      <td>Subscriber</td>\n",
              "      <td>1990.0</td>\n",
              "      <td>1</td>\n",
              "      <td>0.661170</td>\n",
              "    </tr>\n",
              "    <tr>\n",
              "      <th>2</th>\n",
              "      <td>2016-05-09 07:31:19</td>\n",
              "      <td>2016-05-09 07:38:27</td>\n",
              "      <td>517</td>\n",
              "      <td>Pershing Square South</td>\n",
              "      <td>40.751581</td>\n",
              "      <td>-73.977910</td>\n",
              "      <td>491</td>\n",
              "      <td>E 24 St &amp; Park Ave S</td>\n",
              "      <td>40.740964</td>\n",
              "      <td>-73.986022</td>\n",
              "      <td>17171</td>\n",
              "      <td>Subscriber</td>\n",
              "      <td>1985.0</td>\n",
              "      <td>1</td>\n",
              "      <td>1.363644</td>\n",
              "    </tr>\n",
              "    <tr>\n",
              "      <th>3</th>\n",
              "      <td>2016-04-17 18:08:30</td>\n",
              "      <td>2016-04-17 18:11:27</td>\n",
              "      <td>3154</td>\n",
              "      <td>E 77 St &amp; 3 Ave</td>\n",
              "      <td>40.773142</td>\n",
              "      <td>-73.958562</td>\n",
              "      <td>3140</td>\n",
              "      <td>1 Ave &amp; E 78 St</td>\n",
              "      <td>40.771404</td>\n",
              "      <td>-73.953517</td>\n",
              "      <td>16765</td>\n",
              "      <td>Subscriber</td>\n",
              "      <td>1989.0</td>\n",
              "      <td>1</td>\n",
              "      <td>0.467612</td>\n",
              "    </tr>\n",
              "    <tr>\n",
              "      <th>4</th>\n",
              "      <td>2016-05-24 21:10:12</td>\n",
              "      <td>2016-05-24 21:16:51</td>\n",
              "      <td>308</td>\n",
              "      <td>St James Pl &amp; Oliver St</td>\n",
              "      <td>40.713079</td>\n",
              "      <td>-73.998512</td>\n",
              "      <td>251</td>\n",
              "      <td>Mott St &amp; Prince St</td>\n",
              "      <td>40.723180</td>\n",
              "      <td>-73.994800</td>\n",
              "      <td>22554</td>\n",
              "      <td>Subscriber</td>\n",
              "      <td>1964.0</td>\n",
              "      <td>1</td>\n",
              "      <td>1.164657</td>\n",
              "    </tr>\n",
              "    <tr>\n",
              "      <th>5</th>\n",
              "      <td>2016-01-19 21:44:44</td>\n",
              "      <td>2016-01-19 22:00:24</td>\n",
              "      <td>490</td>\n",
              "      <td>8 Ave &amp; W 33 St</td>\n",
              "      <td>40.751551</td>\n",
              "      <td>-73.993934</td>\n",
              "      <td>492</td>\n",
              "      <td>W 33 St &amp; 7 Ave</td>\n",
              "      <td>40.750200</td>\n",
              "      <td>-73.990931</td>\n",
              "      <td>22684</td>\n",
              "      <td>Subscriber</td>\n",
              "      <td>1978.0</td>\n",
              "      <td>1</td>\n",
              "      <td>0.294674</td>\n",
              "    </tr>\n",
              "  </tbody>\n",
              "</table>\n",
              "</div>"
            ],
            "text/plain": [
              "            starttime            stoptime  ...  gender  distance\n",
              "0 2016-05-31 19:58:48 2016-05-31 20:03:51  ...       1  0.661170\n",
              "2 2016-05-09 07:31:19 2016-05-09 07:38:27  ...       1  1.363644\n",
              "3 2016-04-17 18:08:30 2016-04-17 18:11:27  ...       1  0.467612\n",
              "4 2016-05-24 21:10:12 2016-05-24 21:16:51  ...       1  1.164657\n",
              "5 2016-01-19 21:44:44 2016-01-19 22:00:24  ...       1  0.294674\n",
              "\n",
              "[5 rows x 15 columns]"
            ]
          },
          "metadata": {
            "tags": []
          },
          "execution_count": 7
        }
      ]
    },
    {
      "cell_type": "markdown",
      "metadata": {
        "id": "_Fdx0AZOM_kW"
      },
      "source": [
        "#### Age Distribution\n",
        "\n",
        "As you may have checked, the age of people who uses bikes in the NYC varies a lot. To analyze this observation further, we can categorize the age of people using bikes. However, before doing that it is a good idea to check the age distribution first.\n",
        "\n",
        "**Now, please perform following tasks.**\n",
        "\n",
        "1. **Create a function to be applied on the dataframe to extract the age information from given `birth year` column. Then, create a new column called `age` with the information extracted.**\n",
        "2. **Check age distribution (of column `age`) in a histogram.**\n",
        "3. **Create your own age categories after observing the age distributions.**\n",
        "4. **Express your rationale on your age category selection with markdown writing (and please use available formatting options).**\n",
        "\n",
        "An example category list is given below.\n",
        "\n",
        "*An example age category list:*\n",
        "  - *Between 0 and 14 ages, child*\n",
        "  - *Between 15 and 24 ages, young* \n",
        "  - *Between 25 and 64 ages, adult*\n",
        "  - *For people who are 65+, senior*"
      ]
    },
    {
      "cell_type": "code",
      "metadata": {
        "id": "4vA5Vsu-QCje",
        "colab": {
          "base_uri": "https://localhost:8080/",
          "height": 282
        },
        "outputId": "2c59ab2f-d585-4a2b-fb7a-7f66d0ef9e14"
      },
      "source": [
        "# your code\n",
        "\n",
        "\n",
        "\n",
        "from datetime import datetime\n",
        "\n",
        "def age(row):\n",
        "    age=pd.datetime.now().year-row \n",
        "    return age\n",
        "\n",
        "df[\"age\"]= df[\"birth year\"].apply(age)\n",
        "\n",
        "\n",
        "df[\"age\"].plot.hist(bins=15)"
      ],
      "execution_count": null,
      "outputs": [
        {
          "output_type": "execute_result",
          "data": {
            "text/plain": [
              "<matplotlib.axes._subplots.AxesSubplot at 0x7f1d469a5c18>"
            ]
          },
          "metadata": {
            "tags": []
          },
          "execution_count": 18
        },
        {
          "output_type": "display_data",
          "data": {
            "image/png": "[encoded data removed]",
            "text/plain": [
              "<Figure size 432x288 with 1 Axes>"
            ]
          },
          "metadata": {
            "tags": []
          }
        }
      ]
    },
    {
      "cell_type": "markdown",
      "metadata": {
        "id": "tbVwlVxVffPO"
      },
      "source": [
        "  Category List\n",
        "\n",
        "  - *Between 0 and 14 ages, child*\n",
        "  - *Between 15 and 29 ages, young* \n",
        "  - *Between 30 and 70 ages, adult*\n",
        "  - *For people who are 71+, senior*"
      ]
    },
    {
      "cell_type": "markdown",
      "metadata": {
        "id": "O8E6DunoZS5z"
      },
      "source": [
        "#### Age Groups\n",
        "\n",
        "\n",
        "In order to categorize bike users in terms of their ages, create a function for age categorization called `age_categorize` by referring to the categories and their corresponding age intervals that you explained and justified above. Then, **apply** this function to create a new column in the dataframe called `age_category`."
      ]
    },
    {
      "cell_type": "code",
      "metadata": {
        "id": "gSLgByY7E061",
        "colab": {
          "base_uri": "https://localhost:8080/",
          "height": 428
        },
        "outputId": "3126f1b0-188e-4c77-ea96-aadaa89ec515"
      },
      "source": [
        "# your code\n",
        "def age_categ(row):\n",
        "  if 0 <= row and row <=14:\n",
        "    return \"child\"\n",
        "  elif  15 <= row and row <=29:\n",
        "    return \"young\"\n",
        "  elif  30<= row and row <= 70:\n",
        "    return \"adult\"\n",
        "  elif  71 <= row  :\n",
        "    return\"senior\"\n",
        "\n",
        "df[\"age_category\"]= df[\"age\"].apply(age_categ)\n",
        "\n",
        "df.head()"
      ],
      "execution_count": null,
      "outputs": [
        {
          "output_type": "execute_result",
          "data": {
            "text/html": [
              "<div>\n",
              "<style scoped>\n",
              "    .dataframe tbody tr th:only-of-type {\n",
              "        vertical-align: middle;\n",
              "    }\n",
              "\n",
              "    .dataframe tbody tr th {\n",
              "        vertical-align: top;\n",
              "    }\n",
              "\n",
              "    .dataframe thead th {\n",
              "        text-align: right;\n",
              "    }\n",
              "</style>\n",
              "<table border=\"1\" class=\"dataframe\">\n",
              "  <thead>\n",
              "    <tr style=\"text-align: right;\">\n",
              "      <th></th>\n",
              "      <th>starttime</th>\n",
              "      <th>stoptime</th>\n",
              "      <th>start station id</th>\n",
              "      <th>start station name</th>\n",
              "      <th>start station latitude</th>\n",
              "      <th>start station longitude</th>\n",
              "      <th>end station id</th>\n",
              "      <th>end station name</th>\n",
              "      <th>end station latitude</th>\n",
              "      <th>end station longitude</th>\n",
              "      <th>bikeid</th>\n",
              "      <th>usertype</th>\n",
              "      <th>birth year</th>\n",
              "      <th>gender</th>\n",
              "      <th>day</th>\n",
              "      <th>time_of_week</th>\n",
              "      <th>hour</th>\n",
              "      <th>age</th>\n",
              "      <th>age_category</th>\n",
              "    </tr>\n",
              "  </thead>\n",
              "  <tbody>\n",
              "    <tr>\n",
              "      <th>0</th>\n",
              "      <td>2016-05-31 19:58:48</td>\n",
              "      <td>2016-05-31 20:03:51</td>\n",
              "      <td>167</td>\n",
              "      <td>E 39 St &amp; 3 Ave</td>\n",
              "      <td>40.748901</td>\n",
              "      <td>-73.976049</td>\n",
              "      <td>501</td>\n",
              "      <td>FDR Drive &amp; E 35 St</td>\n",
              "      <td>40.744219</td>\n",
              "      <td>-73.971212</td>\n",
              "      <td>19022</td>\n",
              "      <td>Subscriber</td>\n",
              "      <td>1990.0</td>\n",
              "      <td>1</td>\n",
              "      <td>Tuesday</td>\n",
              "      <td>Weekday</td>\n",
              "      <td>19</td>\n",
              "      <td>30.0</td>\n",
              "      <td>adult</td>\n",
              "    </tr>\n",
              "    <tr>\n",
              "      <th>1</th>\n",
              "      <td>2016-03-23 11:32:40</td>\n",
              "      <td>2016-03-23 12:06:44</td>\n",
              "      <td>439</td>\n",
              "      <td>E 4 St &amp; 2 Ave</td>\n",
              "      <td>40.726281</td>\n",
              "      <td>-73.989780</td>\n",
              "      <td>319</td>\n",
              "      <td>Fulton St &amp; Broadway</td>\n",
              "      <td>40.711066</td>\n",
              "      <td>-74.009447</td>\n",
              "      <td>18097</td>\n",
              "      <td>Customer</td>\n",
              "      <td>NaN</td>\n",
              "      <td>0</td>\n",
              "      <td>Wednesday</td>\n",
              "      <td>Weekday</td>\n",
              "      <td>11</td>\n",
              "      <td>NaN</td>\n",
              "      <td>None</td>\n",
              "    </tr>\n",
              "    <tr>\n",
              "      <th>2</th>\n",
              "      <td>2016-05-09 07:31:19</td>\n",
              "      <td>2016-05-09 07:38:27</td>\n",
              "      <td>517</td>\n",
              "      <td>Pershing Square South</td>\n",
              "      <td>40.751581</td>\n",
              "      <td>-73.977910</td>\n",
              "      <td>491</td>\n",
              "      <td>E 24 St &amp; Park Ave S</td>\n",
              "      <td>40.740964</td>\n",
              "      <td>-73.986022</td>\n",
              "      <td>17171</td>\n",
              "      <td>Subscriber</td>\n",
              "      <td>1985.0</td>\n",
              "      <td>1</td>\n",
              "      <td>Monday</td>\n",
              "      <td>Weekday</td>\n",
              "      <td>7</td>\n",
              "      <td>35.0</td>\n",
              "      <td>adult</td>\n",
              "    </tr>\n",
              "    <tr>\n",
              "      <th>3</th>\n",
              "      <td>2016-04-17 18:08:30</td>\n",
              "      <td>2016-04-17 18:11:27</td>\n",
              "      <td>3154</td>\n",
              "      <td>E 77 St &amp; 3 Ave</td>\n",
              "      <td>40.773142</td>\n",
              "      <td>-73.958562</td>\n",
              "      <td>3140</td>\n",
              "      <td>1 Ave &amp; E 78 St</td>\n",
              "      <td>40.771404</td>\n",
              "      <td>-73.953517</td>\n",
              "      <td>16765</td>\n",
              "      <td>Subscriber</td>\n",
              "      <td>1989.0</td>\n",
              "      <td>1</td>\n",
              "      <td>Sunday</td>\n",
              "      <td>Weekend Day</td>\n",
              "      <td>18</td>\n",
              "      <td>31.0</td>\n",
              "      <td>adult</td>\n",
              "    </tr>\n",
              "    <tr>\n",
              "      <th>4</th>\n",
              "      <td>2016-05-24 21:10:12</td>\n",
              "      <td>2016-05-24 21:16:51</td>\n",
              "      <td>308</td>\n",
              "      <td>St James Pl &amp; Oliver St</td>\n",
              "      <td>40.713079</td>\n",
              "      <td>-73.998512</td>\n",
              "      <td>251</td>\n",
              "      <td>Mott St &amp; Prince St</td>\n",
              "      <td>40.723180</td>\n",
              "      <td>-73.994800</td>\n",
              "      <td>22554</td>\n",
              "      <td>Subscriber</td>\n",
              "      <td>1964.0</td>\n",
              "      <td>1</td>\n",
              "      <td>Tuesday</td>\n",
              "      <td>Weekday</td>\n",
              "      <td>21</td>\n",
              "      <td>56.0</td>\n",
              "      <td>adult</td>\n",
              "    </tr>\n",
              "  </tbody>\n",
              "</table>\n",
              "</div>"
            ],
            "text/plain": [
              "            starttime            stoptime  ...   age age_category\n",
              "0 2016-05-31 19:58:48 2016-05-31 20:03:51  ...  30.0        adult\n",
              "1 2016-03-23 11:32:40 2016-03-23 12:06:44  ...   NaN         None\n",
              "2 2016-05-09 07:31:19 2016-05-09 07:38:27  ...  35.0        adult\n",
              "3 2016-04-17 18:08:30 2016-04-17 18:11:27  ...  31.0        adult\n",
              "4 2016-05-24 21:10:12 2016-05-24 21:16:51  ...  56.0        adult\n",
              "\n",
              "[5 rows x 19 columns]"
            ]
          },
          "metadata": {
            "tags": []
          },
          "execution_count": 19
        }
      ]
    },
    {
      "cell_type": "markdown",
      "metadata": {
        "id": "Wnbt03-TXRKt"
      },
      "source": [
        "## Extracting Insights"
      ]
    },
    {
      "cell_type": "markdown",
      "metadata": {
        "id": "-KplV3EXaIWo"
      },
      "source": [
        "#### Distance Distributions\n",
        "\n",
        "With a histogram, plot the distribution of the `distance` column that you added to the dataframe in the earlier steps.\n"
      ]
    },
    {
      "cell_type": "code",
      "metadata": {
        "id": "J_8fL2-7J3mt",
        "colab": {
          "base_uri": "https://localhost:8080/",
          "height": 282
        },
        "outputId": "44abe980-c854-4674-f10e-cb142e302e99"
      },
      "source": [
        "# your code\n",
        "\n",
        "df['distance'].plot(kind=\"hist\",bins=15,rwidth=1)"
      ],
      "execution_count": null,
      "outputs": [
        {
          "output_type": "execute_result",
          "data": {
            "text/plain": [
              "<matplotlib.axes._subplots.AxesSubplot at 0x7f1d54da4080>"
            ]
          },
          "metadata": {
            "tags": []
          },
          "execution_count": 10
        },
        {
          "output_type": "display_data",
          "data": {
            "image/png": "[encoded data removed]",
            "text/plain": [
              "<Figure size 432x288 with 1 Axes>"
            ]
          },
          "metadata": {
            "tags": []
          }
        }
      ]
    },
    {
      "cell_type": "markdown",
      "metadata": {
        "id": "hOIpFrhSalNr"
      },
      "source": [
        "#### Observation Regarding Distances\n",
        "\n",
        "Does something seem odd? Some of the distances between start and end points seem to be 0. This should be the cases where people leaving the bikes to the same station where they rent them. \n",
        "\n",
        "To make sure, \n",
        "1. Please find those cases by showing the total counts of rows where the starting and ending stations are same.\n",
        "2. Plot those cases against rentals do not start and end in same stations in a bar chart.\n",
        "\n",
        "*(You can also utilize the id of these bike rental stations.)*"
      ]
    },
    {
      "cell_type": "code",
      "metadata": {
        "id": "4YrvBky-S7hd",
        "colab": {
          "base_uri": "https://localhost:8080/",
          "height": 279
        },
        "outputId": "b24105f6-5186-4132-f2a4-5ab84a5db99c"
      },
      "source": [
        "# your code\n",
        "count=0\n",
        "for i in df.index:\n",
        "  if (df['distance'][i]==0):\n",
        "    count=count+1\n",
        "    i=i+1\n",
        "\n",
        "\n",
        "df = pd.DataFrame({'Starting and Ending Loc.':['Same Location', 'Not Same Location'], 'val':[count, i]})\n",
        "ax = df.plot.bar(x='Starting and Ending Loc.', y='val', rot=0)"
      ],
      "execution_count": null,
      "outputs": [
        {
          "output_type": "display_data",
          "data": {
            "image/png": "[encoded data removed]",
            "text/plain": [
              "<Figure size 432x288 with 1 Axes>"
            ]
          },
          "metadata": {
            "tags": []
          }
        }
      ]
    },
    {
      "cell_type": "markdown",
      "metadata": {
        "id": "YSVZcedYYGSp"
      },
      "source": [
        "#### Rentals in Weekdays vs. Weekends\n",
        "\n",
        "Since we have the date information for the bike rentals, by utilizing the functionality of the `datetime` library we can obtain the day information from the `starttime` and `stoptime`.\n",
        "\n",
        "Now, your tasks are following:\n",
        "  \n",
        "  - Extract the day of week (Monday, Tuesday, etc.) information from `starttime` column and create a new column in the dataframe called `day`\n",
        "  - Using this column, create a new column called `time_of_week`, which shows if the `day` value is in weekdays are in weekend days.\n",
        "  - Create another column named `hour` by extracting the hour attribute from start time. \n",
        "  - Then, with these columns, show the average bike rental amounts per hour for weekdays and weekends in the same figure with line charts.\n",
        "\n",
        "Please check the documentation of the [date objects](https://docs.python.org/3/library/datetime.html#datetime.date) in the datetime library from the link provided."
      ]
    },
    {
      "cell_type": "code",
      "metadata": {
        "id": "dZHL_bfOWZJD",
        "colab": {
          "base_uri": "https://localhost:8080/",
          "height": 333
        },
        "outputId": "06ab832f-6251-4003-f38c-08d9e582874e"
      },
      "source": [
        "# your code\n",
        "from datetime import date\n",
        "\n",
        "df['day'] = df['starttime'].dt.dayofweek\n",
        "\n",
        "\n",
        "\n",
        "days = {0:'Monday',1:'Tuesday',2:'Wednesday',3:'Thursday',4:'Friday',5:'Saturday',6:'Sunday'}\n",
        "\n",
        "df['day'] = df['day'].apply(lambda x: days[x])\n",
        "\n",
        "def check(day):\n",
        "  if day==\"Saturday\" or day==\"Sunday\":\n",
        "    return \"Weekend Day\"\n",
        "  else:\n",
        "    return \"Weekday\"\n",
        "df['time_of_week'] = df['day'].apply(check)  \n",
        "\n",
        "df['hour']=pd.to_datetime(df['starttime']).dt.hour\n",
        "\n",
        "df.groupby(by=\"time_of_week\").hour.plot(kind= \"kde\")"
      ],
      "execution_count": null,
      "outputs": [
        {
          "output_type": "execute_result",
          "data": {
            "text/plain": [
              "time_of_week\n",
              "Weekday        AxesSubplot(0.125,0.125;0.775x0.755)\n",
              "Weekend Day    AxesSubplot(0.125,0.125;0.775x0.755)\n",
              "Name: hour, dtype: object"
            ]
          },
          "metadata": {
            "tags": []
          },
          "execution_count": 16
        },
        {
          "output_type": "display_data",
          "data": {
            "image/png": "[encoded data removed]",
            "text/plain": [
              "<Figure size 432x288 with 1 Axes>"
            ]
          },
          "metadata": {
            "tags": []
          }
        }
      ]
    },
    {
      "cell_type": "markdown",
      "metadata": {
        "id": "2CzRCPe9a8ZQ"
      },
      "source": [
        "#### Age Distributions by Gender\n",
        "\n",
        "In our original data, gender information was mapped as follows:\n",
        "\n",
        "    - 0: unknown\n",
        "    - 1: male\n",
        "    - 2: female\n",
        "\n",
        "Use this information to display the age distributions of male and female bike users in different graphs. To do that, please use **matplotlib**'s `subplots` option to create 2 graphs located in the same row."
      ]
    },
    {
      "cell_type": "code",
      "metadata": {
        "id": "O0EufkDDrTkN",
        "colab": {
          "base_uri": "https://localhost:8080/",
          "height": 188
        },
        "outputId": "77f55f51-51d0-41d1-ad62-dbbe410844c1"
      },
      "source": [
        "# your code\n",
        "import matplotlib.pyplot as plt  # we'll be using pyplot with plt alias\n",
        "import numpy as np\n",
        "\n",
        "\n",
        "# graphs will be included in the notebook\n",
        "%matplotlib inline\n",
        "c1=0\n",
        "c2=0\n",
        "c3=0\n",
        "c4=0\n",
        "c5=0\n",
        "c6=0\n",
        "c7=0\n",
        "c8=0\n",
        "for i in df.index:\n",
        "  if df['gender'][i]==1:\n",
        "    if df['age_category'][i]==\"child\":\n",
        "      c1=c1+1\n",
        "      i=i+1  \n",
        "    elif df['age_category'][i]==\"young\":\n",
        "      c2=c2+1\n",
        "      i=i+1  \n",
        "    elif df['age_category'][i]==\"adult\":\n",
        "      c3=c3+1\n",
        "      i=i+1   \n",
        "    elif df['age_category'][i]==\"senior\":\n",
        "      c4=c4+1\n",
        "      i=i+1  \n",
        "  elif df['gender'][i]==2:\n",
        "    if df['age_category'][i]==\"child\":\n",
        "      c5=c5+1\n",
        "      i=i+1  \n",
        "    elif df['age_category'][i]==\"young\":\n",
        "      c6=c6+1\n",
        "      i=i+1 \n",
        "    elif df['age_category'][i]==\"adult\":\n",
        "      c7=c7+1\n",
        "      i=i+1   \n",
        "    elif df['age_category'][i]==\"senior\":\n",
        "      c8=c8+1\n",
        "      i=i+1  \n",
        "   \n",
        "male = {'child': c1, 'adult': c2, 'young': c3, 'senior': c4}\n",
        "female = {'child': c5, 'adult': c6, 'young': c7, 'senior': c8}\n",
        "names1 = list(male.keys())\n",
        "values1 = list(male.values())\n",
        "names2 = list(female.keys())\n",
        "values2 = list(female.values())\n",
        "\n",
        "fig, axs = plt.subplots(1, 2, figsize=(10, 2), sharey=True)\n",
        "axs[0].bar(names1, values1)\n",
        "axs[1].bar(names2, values2)\n",
        "\n",
        "fig.suptitle('Age distribution of male and female users')          "
      ],
      "execution_count": null,
      "outputs": [
        {
          "output_type": "execute_result",
          "data": {
            "text/plain": [
              "Text(0.5, 0.98, 'Age distribution of male and female users')"
            ]
          },
          "metadata": {
            "tags": []
          },
          "execution_count": 20
        },
        {
          "output_type": "display_data",
          "data": {
            "image/png": "[encoded data removed]",
            "text/plain": [
              "<Figure size 720x144 with 2 Axes>"
            ]
          },
          "metadata": {
            "tags": []
          }
        }
      ]
    },
    {
      "cell_type": "markdown",
      "metadata": {
        "id": "5RdDNMJsYeYu"
      },
      "source": [
        "#### Usage by Age Groups\n",
        "\n",
        "Write a function that will display the usage of bike rental system by different age groups in a pie chart *for a given time interval*. For this taks, the first step is provided for you, please complete the implementation of the function named `age_groups_in_time_intervals`. The function will take two datetime parameters for `starttime` values and will show age group ratios in pie chart."
      ]
    },
    {
      "cell_type": "code",
      "metadata": {
        "id": "yEVUCvCvnIPf"
      },
      "source": [
        "# your code\n",
        "\n",
        "def age_groups_in_time_intervals(time1, time2):\n",
        "  # TO-DO: complete the implementation\n",
        "\n",
        " \n",
        "\n",
        "  # Title for the pie chart is given below,\n",
        "  # you do not need to edit it.\n",
        "\n",
        "     \n",
        "plt.title('Ratios of usage by Age Groups between ' + time1  + ' and ' + time2)\n",
        "# At the end, plt.show() will be called\n",
        "\n",
        "\n",
        "plt.show()"
      ],
      "execution_count": null,
      "outputs": []
    },
    {
      "cell_type": "markdown",
      "metadata": {
        "id": "urNoPx4haEWo"
      },
      "source": [
        "#### Age Groups vs Distance \n",
        "\n",
        "Similar to the task above, we can also investigate the variance of distance between age groups. Plot histograms of distances in each age group in a juxtaposed 1x3 layout."
      ]
    },
    {
      "cell_type": "code",
      "metadata": {
        "id": "_KDsclcW6PTP"
      },
      "source": [
        "# your code"
      ],
      "execution_count": null,
      "outputs": []
    },
    {
      "cell_type": "markdown",
      "metadata": {
        "id": "aRTaBWaeXm-q"
      },
      "source": [
        "## Spatial Visualizations\n",
        "\n",
        "In this section, you are going to utilize the latitude and longitude values associated with bike rentals and visualize them on a real-world map. "
      ]
    },
    {
      "cell_type": "markdown",
      "metadata": {
        "id": "mGT1evvBXqao"
      },
      "source": [
        "#### Bike Stations in NYC\n",
        "\n",
        "From all locations (latitude, longitude pairs) in start and end stations, extract the unique ones and display them as circle markers on the map."
      ]
    },
    {
      "cell_type": "code",
      "metadata": {
        "id": "c6D7ljoJu1_W"
      },
      "source": [
        "# your solution\n"
      ],
      "execution_count": null,
      "outputs": []
    },
    {
      "cell_type": "markdown",
      "metadata": {
        "id": "WwfzI3tkcKh4"
      },
      "source": [
        "#### Heatmap of Rentals\n",
        "\n",
        "Extract the latitude and longitude values of rental start locations and display their heatmap. \n",
        "\n",
        "In order to generate a heatmap, you may use the link below.\n",
        "\n",
        "https://python-visualization.github.io/folium/plugins.html#folium.plugins.HeatMap"
      ]
    },
    {
      "cell_type": "code",
      "metadata": {
        "id": "Yi7aXHE1cMLy"
      },
      "source": [
        "# your code\n",
        "\n"
      ],
      "execution_count": null,
      "outputs": []
    }
  ]
}