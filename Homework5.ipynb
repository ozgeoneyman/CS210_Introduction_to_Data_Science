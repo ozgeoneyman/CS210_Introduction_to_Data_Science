{
  "nbformat": 4,
  "nbformat_minor": 0,
  "metadata": {
    "colab": {
      "name": "oneyman_ozge_th5.ipynb",
      "provenance": [],
      "collapsed_sections": [],
      "toc_visible": true
    },
    "kernelspec": {
      "name": "python3",
      "display_name": "Python 3"
    }
  },
  "cells": [
    {
      "cell_type": "markdown",
      "metadata": {
        "id": "b790duluUho8"
      },
      "source": [
        "# Take-Home Exam 5: Decision Trees\n",
        "\n",
        "*In this take-home exam, you are going to work with decision trees and observe how it performs with different hyperparameter settings.*\n",
        "\n",
        "**Submission Instructions**\n",
        "\n",
        "---\n",
        "Copy this assignment to your Drive. <font color = 'red'> `File` --> `Save a copy in Drive`</font>. Rename it as <font color = 'green'>`Lastname_Firstname_th5`</font>.\n",
        "\n",
        "Write your solutions in the cells  marked <font color = 'green'>`# your code`</font>.\n",
        "\n",
        "When you're done please submit your solutions as an <font color=\"red\">`.ipynb`</font> file. To do so:\n",
        "\n",
        "\n",
        "1.  Click on <font color=\"red\">`File`</font>  at the top left on the Colab screen, then click on <font color = 'red'>`Download .ipynb`</font>.\n",
        "2.   Then submit the <font color=\"red\">`.ipynb`</font> version of your work on SUCourse.\n",
        "\n",
        "\n",
        "For any question, you may send an email to the TAs and LAs.\n",
        "\n",
        "---"
      ]
    },
    {
      "cell_type": "code",
      "metadata": {
        "id": "mTMBGHV_UxjB",
        "colab": {
          "base_uri": "https://localhost:8080/",
          "height": 34
        },
        "outputId": "854cc80f-2211-41bd-8507-7c4c58c60c88"
      },
      "source": [
        "from google.colab import drive\n",
        "drive.mount(\"/content/drive\", force_remount=True)\n",
        "\n",
        "path_prefix = \"/content/drive/My Drive\""
      ],
      "execution_count": null,
      "outputs": [
        {
          "output_type": "stream",
          "text": [
            "Mounted at /content/drive\n"
          ],
          "name": "stdout"
        }
      ]
    },
    {
      "cell_type": "code",
      "metadata": {
        "id": "9ulyIEtTU4_X"
      },
      "source": [
        "import pandas as pd\n",
        "import numpy as np\n",
        "import matplotlib.pyplot as plt\n",
        "from os.path import join\n",
        "\n",
        "%matplotlib inline"
      ],
      "execution_count": null,
      "outputs": []
    },
    {
      "cell_type": "markdown",
      "metadata": {
        "id": "numRKpzYU_iR"
      },
      "source": [
        "## Constructing a Decision Tree\n",
        "\n",
        "A decision tree can be formulated as a regular tree structure in which nodes correspond to rules, condition checks and leaves correspond to prediction values. The construction process should be steered carefully. A tree that is grown without any constraint/limit may affect the performance drastically. In this exercise, you are going to train two different decision trees and observe how their classification boundaries change with respect to train data and then measure their performance on the test data.\n",
        "\n",
        "To this end, you will be working with `data.csv` file that contains two features, namely `x` and `y`, and the target attribute `label`."
      ]
    },
    {
      "cell_type": "code",
      "metadata": {
        "id": "HEJwOmhiJzkq",
        "colab": {
          "base_uri": "https://localhost:8080/",
          "height": 204
        },
        "outputId": "598f3ce2-ca74-43c4-f8f7-1239464c4179"
      },
      "source": [
        "filename = \"data.csv\"\n",
        "df = pd.read_csv(join(path_prefix, filename))\n",
        "df.head()"
      ],
      "execution_count": null,
      "outputs": [
        {
          "output_type": "execute_result",
          "data": {
            "text/html": [
              "<div>\n",
              "<style scoped>\n",
              "    .dataframe tbody tr th:only-of-type {\n",
              "        vertical-align: middle;\n",
              "    }\n",
              "\n",
              "    .dataframe tbody tr th {\n",
              "        vertical-align: top;\n",
              "    }\n",
              "\n",
              "    .dataframe thead th {\n",
              "        text-align: right;\n",
              "    }\n",
              "</style>\n",
              "<table border=\"1\" class=\"dataframe\">\n",
              "  <thead>\n",
              "    <tr style=\"text-align: right;\">\n",
              "      <th></th>\n",
              "      <th>x</th>\n",
              "      <th>y</th>\n",
              "      <th>label</th>\n",
              "    </tr>\n",
              "  </thead>\n",
              "  <tbody>\n",
              "    <tr>\n",
              "      <th>0</th>\n",
              "      <td>5.1</td>\n",
              "      <td>3.5</td>\n",
              "      <td>0.0</td>\n",
              "    </tr>\n",
              "    <tr>\n",
              "      <th>1</th>\n",
              "      <td>4.9</td>\n",
              "      <td>3.0</td>\n",
              "      <td>0.0</td>\n",
              "    </tr>\n",
              "    <tr>\n",
              "      <th>2</th>\n",
              "      <td>4.7</td>\n",
              "      <td>3.2</td>\n",
              "      <td>0.0</td>\n",
              "    </tr>\n",
              "    <tr>\n",
              "      <th>3</th>\n",
              "      <td>4.6</td>\n",
              "      <td>3.1</td>\n",
              "      <td>0.0</td>\n",
              "    </tr>\n",
              "    <tr>\n",
              "      <th>4</th>\n",
              "      <td>5.0</td>\n",
              "      <td>3.6</td>\n",
              "      <td>0.0</td>\n",
              "    </tr>\n",
              "  </tbody>\n",
              "</table>\n",
              "</div>"
            ],
            "text/plain": [
              "     x    y  label\n",
              "0  5.1  3.5    0.0\n",
              "1  4.9  3.0    0.0\n",
              "2  4.7  3.2    0.0\n",
              "3  4.6  3.1    0.0\n",
              "4  5.0  3.6    0.0"
            ]
          },
          "metadata": {
            "tags": []
          },
          "execution_count": 37
        }
      ]
    },
    {
      "cell_type": "markdown",
      "metadata": {
        "id": "M5IpA-s-WNKY"
      },
      "source": [
        "### Q1: Classification Boundaries\n",
        "\n",
        "In this task, you will analyze how different hyperparameter settings affect the classification boundaries for decision trees. \n",
        "\n",
        "Below, you may find the function from the previous take-home exam to display the classification boundaries. However, the function is slightly changed. In addition to the previous parameters, it expects two more:\n",
        "\n",
        "- `model` -> a model you generated\n",
        "- `data` -> the feature set to train the `model` \n",
        "- `labels` -> corresponding label values \n",
        "- `ax` -> an axes object to plot the classification boundaries of the given model\n",
        "- `title` -> the title of the given `ax` object\n",
        "\n",
        "The function still trains the model, but you should also provide the data to be trained on. \n",
        "\n",
        "**Important:** The parameters `data` and `labels` should be numpy arrays, i.e. you should work with df[[\"x\", \"y\"]].values which returns the numpy array of the specified columns.\n",
        "\n",
        "---\n",
        "\n",
        "1. Split the original data into two folds, namely *train* and *test*, in which 20% is reserved for the test data. Here, it's important that you **set the random_state parameter to 1** in train_test_split function.\n",
        "\n",
        "2. Generate two different decision tree models. \n",
        "\n",
        "  - The first one should be generated with hyperparameter **`min_samples_leaf` set to 1**. `min_samples_leaf` is the minimum number of samples required to be at a leaf node. \n",
        "\n",
        "  - The second decision tree model should be initialized with **`min_samples_leaf` set to 5** and **`max_depth` set to 4**. `max_depth` hyperparameter controls the maximum depth of the tree.\n",
        "\n",
        "3. Display the resulting classification boundaries in a **1x2 layout**. Utilize the axes titles to highlight the models.\n",
        "\n",
        "  - Here, you should **put the train data as a parameter to the `visualize_model` function**, i.e. the function call should be visualize_model(model, x_train, y_train, ax, title).\n",
        "\n",
        "\n",
        "Once you generate the boundaries, comment on the results. Disscuss the model performances with respect to generalizability, i.e. which model would perform better with unseen test data."
      ]
    },
    {
      "cell_type": "code",
      "metadata": {
        "id": "MDO5TfubKFJR"
      },
      "source": [
        "from matplotlib.colors import ListedColormap\n",
        "from ipywidgets import interact\n",
        "\n",
        "def visualize_model(model, data, labels, ax, title):\n",
        "  step = 0.05\n",
        "\n",
        "  cmap_light = ListedColormap(['orange', 'cyan', 'cornflowerblue'])\n",
        "  cmap_bold = ListedColormap(['darkorange', 'c', 'darkblue'])\n",
        "\n",
        "  model.fit(data, labels)\n",
        "\n",
        "  x_min = data[:, 0].min() - 1\n",
        "  x_max = data[:, 0].max() + 1\n",
        "  y_min = data[:, 1].min() - 1\n",
        "  y_max = data[:, 1].max() + 1\n",
        "\n",
        "  xx, yy = np.meshgrid(np.arange(x_min, x_max, step), np.arange(y_min, y_max, step))\n",
        "  y_pred = model.predict(np.hstack([xx.reshape(-1,1), yy.reshape(-1,1)])).reshape(xx.shape)\n",
        "\n",
        "  ax.pcolormesh(xx, yy, y_pred, cmap=cmap_light)\n",
        "  ax.scatter(data[:, 0], data[:, 1], c=labels, cmap=cmap_bold, edgecolor='k', s=20)\n",
        "  ax.set_xlim(xx.min(), xx.max())\n",
        "  ax.set_ylim(yy.min(), yy.max())\n",
        "  ax.set_title(title)"
      ],
      "execution_count": null,
      "outputs": []
    },
    {
      "cell_type": "code",
      "metadata": {
        "id": "ie7SM8f3Y5Wm",
        "colab": {
          "base_uri": "https://localhost:8080/",
          "height": 336
        },
        "outputId": "d918a4de-3ff8-4427-db1b-f65c767b6927"
      },
      "source": [
        "# your code\n",
        "from sklearn.model_selection import train_test_split\n",
        "y=df[\"label\"].values\n",
        "x=df.drop(\"label\", axis=1).values\n",
        "x_train, x_test, y_train, y_test = train_test_split(x,y ,test_size= 0.20, random_state=1)\n",
        "\n",
        "from sklearn import tree\n",
        "clas1=tree.DecisionTreeClassifier(min_samples_leaf=1)\n",
        "clas2=tree.DecisionTreeClassifier(min_samples_leaf=5, max_depth=4)\n",
        "\n",
        "fig, ax =plt.subplots(1,2, figsize=(10,5))\n",
        "visualize_model(clas1, x_train, y_train, ax[0], title= \"MODEL1\")\n",
        "visualize_model(clas2, x_train, y_train, ax[1], title= \"MODEL2\")"
      ],
      "execution_count": null,
      "outputs": [
        {
          "output_type": "display_data",
          "data": {
            "image/png": "[encoded data removed]",
            "text/plain": [
              "<Figure size 720x360 with 2 Axes>"
            ]
          },
          "metadata": {
            "tags": [],
            "needs_background": "light"
          }
        }
      ]
    },
    {
      "cell_type": "markdown",
      "metadata": {
        "id": "wcfbZGVaY6I-"
      },
      "source": [
        "<font color=\"blue\">[Double Click to Insert Your Comments]</font>"
      ]
    },
    {
      "cell_type": "markdown",
      "metadata": {
        "id": "JVM-QY1Ng51z"
      },
      "source": [
        "### Q2: Model Performance\n",
        "\n",
        "In the previous task, you performed a visual inspection on the decision tree models. Here, you are going to compare the performance with respect to the test data. And then solidify your findings with cross validation.\n",
        "\n",
        "1. For both of the models, find the accuracy score on the train data. \n",
        "  - Here, the models are already trained with the train data. Measure the performance of the models on the train data.\n",
        "\n",
        "2. For both of the models, find the accuracy score on the test data.\n",
        "\n",
        "Once you extract the accuracy values, display the model performances' in a bar chart. An exemplary figure can be found below. \n",
        "\n",
        "<img height=\"300\" widht=\"300\" src=\"https://i.ibb.co/gjDm65z/gg.png\"/>\n",
        "\n",
        "Compare the models in terms of their performance on train and test data. Discuss the difference between the results. And try to explain the reason behind the difference."
      ]
    },
    {
      "cell_type": "code",
      "metadata": {
        "id": "kVQYq7N7m-QO",
        "colab": {
          "base_uri": "https://localhost:8080/",
          "height": 369
        },
        "outputId": "8f5dc15f-0488-43a8-fada-0239f130bc5d"
      },
      "source": [
        "  # your code\n",
        "  from sklearn.metrics import accuracy_score\n",
        "\n",
        "  clas1.fit(x_train, y_train)\n",
        "\n",
        "  clas2.fit(x_train, y_train)\n",
        "\n",
        "  y_trainpre1=clas1.predict(x_train)\n",
        "\n",
        "  acc_val_t1=accuracy_score(y_train, y_trainpre1)\n",
        "\n",
        "  y_trainpre2=clas2.predict(x_train)\n",
        "\n",
        "  acc_val_t2=accuracy_score(y_train, y_trainpre1)\n",
        "\n",
        "  y_testpre1=clas1.predict(x_train)\n",
        "\n",
        "  acc_val_test1=accuracy_score(y_train, y_testpre1)\n",
        "\n",
        "  y_testpre2=clas2.predict(x_train)\n",
        "\n",
        "  acc_val_test2=accuracy_score(y_train, y_testpre2)\n",
        "\n",
        "  mean1=(acc_val_t1,acc_val_test1) \n",
        "  mean2=(acc_val_t2,acc_val_test2) \n",
        "\n",
        "  fig, ax =plt.subplots(figsize=(10,5))\n",
        "  ind=np.arange(2)\n",
        " \n",
        "  r1=plt.barh(ind,mean1,0.5, alpha= 0.9, color= 'yellow' , label= \"TEST\")\n",
        "  r2=plt.barh(ind+0.5,mean2,0.5, alpha= 0.9, color= 'red' , label= \"TRAIN\")\n",
        "  \n",
        "  plt.title(\"PERFORMANS ON TRAIN AND TEST DATA\")\n",
        "  plt.ylabel(\"MODELS\")\n",
        "  plt.xlabel(\"ACCURACY\")\n",
        "\n",
        "  s, e= ax.get_xlim()\n",
        "  ax.xaxis.set_ticks(np.arange(s,e, 0.5))\n",
        "\n",
        "  \n",
        "  y=[acc_val_t1, acc_val_test1, acc_val_t2, acc_val_test2]\n",
        "  x=[u'min leaf sample = 1', u' min leaf sample = 5 and max depth = 4']\n",
        "  \n",
        "  i=np.arange(len(y))\n",
        "  plt.yticks(y, \" \")\n",
        "  ax.set_yticks(i+0.5/2)\n",
        "  ax.set_yticklabels(x, minor=False)\n",
        "  plt.legend()\n",
        "  plt.tight_layout()\n",
        "  plt.show()\n",
        "\n",
        "\n",
        "\n",
        "\n"
      ],
      "execution_count": null,
      "outputs": [
        {
          "output_type": "display_data",
          "data": {
            "image/png": "[encoded data removed]",
            "text/plain": [
              "<Figure size 720x360 with 1 Axes>"
            ]
          },
          "metadata": {
            "tags": [],
            "needs_background": "light"
          }
        }
      ]
    },
    {
      "cell_type": "markdown",
      "metadata": {
        "id": "C5a0F5psnAhw"
      },
      "source": [
        "<font color=\"blue\">[Double Click to Insert Your Comments]</font>\n",
        "\n",
        "We can see from the graph that the differences of test is equal in both conditions, which is mean leaf sample equal to 1 and mean leaf sample equal to 5 & max depth equal to 4. But train is change. "
      ]
    },
    {
      "cell_type": "markdown",
      "metadata": {
        "id": "cRnxL72av86T"
      },
      "source": [
        "### Q3: Cross Validation\n",
        "\n",
        "Train-test splitting based model evaluations highly depend on the random splitting procedure. In order to evaluate your models in a more robust manner, you may apply cross validation.\n",
        "\n",
        "Here, apply 10-Fold cross validation for both of the models and discuss the results.\n",
        "\n",
        "1. Generate both of the models with the same set of hyperparameter settings.\n",
        "\n",
        "2. Evalute your models with 10-Fold cross validation.\n",
        "\n",
        "  - Here, you should be working with the original data. There is no need for the train/test folds.\n",
        "\n",
        "Once you obtain the cross validation accuracy values, discuss the results. Which model is better and why? "
      ]
    },
    {
      "cell_type": "code",
      "metadata": {
        "id": "02VxBBxC1Xbm"
      },
      "source": [
        "# your code\n"
      ],
      "execution_count": null,
      "outputs": []
    },
    {
      "cell_type": "markdown",
      "metadata": {
        "id": "4Ivix50U1aXd"
      },
      "source": [
        "<font color=\"blue\">[Double Click to Insert Your Comments]</font>"
      ]
    }
  ]
}